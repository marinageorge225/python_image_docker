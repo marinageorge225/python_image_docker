{
  "cells": [
    {
      "cell_type": "code",
      "execution_count": 1,
      "metadata": {
        "id": "Bd_jEBPP8EnG"
      },
      "outputs": [],
      "source": [
        "import pandas as pd"
      ]
    },
    {
      "cell_type": "code",
      "execution_count": 20,
      "metadata": {
        "colab": {
          "base_uri": "https://localhost:8080/",
          "height": 377
        },
        "id": "RYRGN-iw9U0Y",
        "outputId": "648821bd-db1c-403b-ee27-9d0bbf89430a"
      },
      "outputs": [
        {
          "data": {
            "application/vnd.google.colaboratory.intrinsic+json": {
              "type": "dataframe",
              "variable_name": "df"
            },
            "text/html": [
              "\n",
              "  <div id=\"df-78c61a53-c87c-4741-8ed6-fc5025bd7246\" class=\"colab-df-container\">\n",
              "    <div>\n",
              "<style scoped>\n",
              "    .dataframe tbody tr th:only-of-type {\n",
              "        vertical-align: middle;\n",
              "    }\n",
              "\n",
              "    .dataframe tbody tr th {\n",
              "        vertical-align: top;\n",
              "    }\n",
              "\n",
              "    .dataframe thead th {\n",
              "        text-align: right;\n",
              "    }\n",
              "</style>\n",
              "<table border=\"1\" class=\"dataframe\">\n",
              "  <thead>\n",
              "    <tr style=\"text-align: right;\">\n",
              "      <th></th>\n",
              "      <th>book_id</th>\n",
              "      <th>goodreads_book_id</th>\n",
              "      <th>best_book_id</th>\n",
              "      <th>work_id</th>\n",
              "      <th>books_count</th>\n",
              "      <th>isbn</th>\n",
              "      <th>isbn13</th>\n",
              "      <th>authors</th>\n",
              "      <th>original_publication_year</th>\n",
              "      <th>original_title</th>\n",
              "      <th>...</th>\n",
              "      <th>ratings_count</th>\n",
              "      <th>work_ratings_count</th>\n",
              "      <th>work_text_reviews_count</th>\n",
              "      <th>ratings_1</th>\n",
              "      <th>ratings_2</th>\n",
              "      <th>ratings_3</th>\n",
              "      <th>ratings_4</th>\n",
              "      <th>ratings_5</th>\n",
              "      <th>image_url</th>\n",
              "      <th>small_image_url</th>\n",
              "    </tr>\n",
              "  </thead>\n",
              "  <tbody>\n",
              "    <tr>\n",
              "      <th>0</th>\n",
              "      <td>1</td>\n",
              "      <td>2767052</td>\n",
              "      <td>2767052</td>\n",
              "      <td>2792775</td>\n",
              "      <td>272</td>\n",
              "      <td>439023483</td>\n",
              "      <td>9.780439e+12</td>\n",
              "      <td>Suzanne Collins</td>\n",
              "      <td>2008.0</td>\n",
              "      <td>The Hunger Games</td>\n",
              "      <td>...</td>\n",
              "      <td>4780653</td>\n",
              "      <td>4942365</td>\n",
              "      <td>155254</td>\n",
              "      <td>66715</td>\n",
              "      <td>127936</td>\n",
              "      <td>560092</td>\n",
              "      <td>1481305</td>\n",
              "      <td>2706317</td>\n",
              "      <td>https://images.gr-assets.com/books/1447303603m...</td>\n",
              "      <td>https://images.gr-assets.com/books/1447303603s...</td>\n",
              "    </tr>\n",
              "    <tr>\n",
              "      <th>1</th>\n",
              "      <td>2</td>\n",
              "      <td>3</td>\n",
              "      <td>3</td>\n",
              "      <td>4640799</td>\n",
              "      <td>491</td>\n",
              "      <td>439554934</td>\n",
              "      <td>9.780440e+12</td>\n",
              "      <td>J.K. Rowling, Mary GrandPré</td>\n",
              "      <td>1997.0</td>\n",
              "      <td>Harry Potter and the Philosopher's Stone</td>\n",
              "      <td>...</td>\n",
              "      <td>4602479</td>\n",
              "      <td>4800065</td>\n",
              "      <td>75867</td>\n",
              "      <td>75504</td>\n",
              "      <td>101676</td>\n",
              "      <td>455024</td>\n",
              "      <td>1156318</td>\n",
              "      <td>3011543</td>\n",
              "      <td>https://images.gr-assets.com/books/1474154022m...</td>\n",
              "      <td>https://images.gr-assets.com/books/1474154022s...</td>\n",
              "    </tr>\n",
              "    <tr>\n",
              "      <th>2</th>\n",
              "      <td>3</td>\n",
              "      <td>41865</td>\n",
              "      <td>41865</td>\n",
              "      <td>3212258</td>\n",
              "      <td>226</td>\n",
              "      <td>316015849</td>\n",
              "      <td>9.780316e+12</td>\n",
              "      <td>Stephenie Meyer</td>\n",
              "      <td>2005.0</td>\n",
              "      <td>Twilight</td>\n",
              "      <td>...</td>\n",
              "      <td>3866839</td>\n",
              "      <td>3916824</td>\n",
              "      <td>95009</td>\n",
              "      <td>456191</td>\n",
              "      <td>436802</td>\n",
              "      <td>793319</td>\n",
              "      <td>875073</td>\n",
              "      <td>1355439</td>\n",
              "      <td>https://images.gr-assets.com/books/1361039443m...</td>\n",
              "      <td>https://images.gr-assets.com/books/1361039443s...</td>\n",
              "    </tr>\n",
              "    <tr>\n",
              "      <th>3</th>\n",
              "      <td>6</td>\n",
              "      <td>11870085</td>\n",
              "      <td>11870085</td>\n",
              "      <td>16827462</td>\n",
              "      <td>226</td>\n",
              "      <td>525478817</td>\n",
              "      <td>9.780525e+12</td>\n",
              "      <td>John Green</td>\n",
              "      <td>2012.0</td>\n",
              "      <td>The Fault in Our Stars</td>\n",
              "      <td>...</td>\n",
              "      <td>2346404</td>\n",
              "      <td>2478609</td>\n",
              "      <td>140739</td>\n",
              "      <td>47994</td>\n",
              "      <td>92723</td>\n",
              "      <td>327550</td>\n",
              "      <td>698471</td>\n",
              "      <td>1311871</td>\n",
              "      <td>https://images.gr-assets.com/books/1360206420m...</td>\n",
              "      <td>https://images.gr-assets.com/books/1360206420s...</td>\n",
              "    </tr>\n",
              "    <tr>\n",
              "      <th>4</th>\n",
              "      <td>12</td>\n",
              "      <td>13335037</td>\n",
              "      <td>13335037</td>\n",
              "      <td>13155899</td>\n",
              "      <td>210</td>\n",
              "      <td>62024035</td>\n",
              "      <td>9.780062e+12</td>\n",
              "      <td>Veronica Roth</td>\n",
              "      <td>2011.0</td>\n",
              "      <td>Divergent</td>\n",
              "      <td>...</td>\n",
              "      <td>1903563</td>\n",
              "      <td>2216814</td>\n",
              "      <td>101023</td>\n",
              "      <td>36315</td>\n",
              "      <td>82870</td>\n",
              "      <td>310297</td>\n",
              "      <td>673028</td>\n",
              "      <td>1114304</td>\n",
              "      <td>https://images.gr-assets.com/books/1328559506m...</td>\n",
              "      <td>https://images.gr-assets.com/books/1328559506s...</td>\n",
              "    </tr>\n",
              "  </tbody>\n",
              "</table>\n",
              "<p>5 rows × 23 columns</p>\n",
              "</div>\n",
              "    <div class=\"colab-df-buttons\">\n",
              "\n",
              "  <div class=\"colab-df-container\">\n",
              "    <button class=\"colab-df-convert\" onclick=\"convertToInteractive('df-78c61a53-c87c-4741-8ed6-fc5025bd7246')\"\n",
              "            title=\"Convert this dataframe to an interactive table.\"\n",
              "            style=\"display:none;\">\n",
              "\n",
              "  <svg xmlns=\"http://www.w3.org/2000/svg\" height=\"24px\" viewBox=\"0 -960 960 960\">\n",
              "    <path d=\"M120-120v-720h720v720H120Zm60-500h600v-160H180v160Zm220 220h160v-160H400v160Zm0 220h160v-160H400v160ZM180-400h160v-160H180v160Zm440 0h160v-160H620v160ZM180-180h160v-160H180v160Zm440 0h160v-160H620v160Z\"/>\n",
              "  </svg>\n",
              "    </button>\n",
              "\n",
              "  <style>\n",
              "    .colab-df-container {\n",
              "      display:flex;\n",
              "      gap: 12px;\n",
              "    }\n",
              "\n",
              "    .colab-df-convert {\n",
              "      background-color: #E8F0FE;\n",
              "      border: none;\n",
              "      border-radius: 50%;\n",
              "      cursor: pointer;\n",
              "      display: none;\n",
              "      fill: #1967D2;\n",
              "      height: 32px;\n",
              "      padding: 0 0 0 0;\n",
              "      width: 32px;\n",
              "    }\n",
              "\n",
              "    .colab-df-convert:hover {\n",
              "      background-color: #E2EBFA;\n",
              "      box-shadow: 0px 1px 2px rgba(60, 64, 67, 0.3), 0px 1px 3px 1px rgba(60, 64, 67, 0.15);\n",
              "      fill: #174EA6;\n",
              "    }\n",
              "\n",
              "    .colab-df-buttons div {\n",
              "      margin-bottom: 4px;\n",
              "    }\n",
              "\n",
              "    [theme=dark] .colab-df-convert {\n",
              "      background-color: #3B4455;\n",
              "      fill: #D2E3FC;\n",
              "    }\n",
              "\n",
              "    [theme=dark] .colab-df-convert:hover {\n",
              "      background-color: #434B5C;\n",
              "      box-shadow: 0px 1px 3px 1px rgba(0, 0, 0, 0.15);\n",
              "      filter: drop-shadow(0px 1px 2px rgba(0, 0, 0, 0.3));\n",
              "      fill: #FFFFFF;\n",
              "    }\n",
              "  </style>\n",
              "\n",
              "    <script>\n",
              "      const buttonEl =\n",
              "        document.querySelector('#df-78c61a53-c87c-4741-8ed6-fc5025bd7246 button.colab-df-convert');\n",
              "      buttonEl.style.display =\n",
              "        google.colab.kernel.accessAllowed ? 'block' : 'none';\n",
              "\n",
              "      async function convertToInteractive(key) {\n",
              "        const element = document.querySelector('#df-78c61a53-c87c-4741-8ed6-fc5025bd7246');\n",
              "        const dataTable =\n",
              "          await google.colab.kernel.invokeFunction('convertToInteractive',\n",
              "                                                    [key], {});\n",
              "        if (!dataTable) return;\n",
              "\n",
              "        const docLinkHtml = 'Like what you see? Visit the ' +\n",
              "          '<a target=\"_blank\" href=https://colab.research.google.com/notebooks/data_table.ipynb>data table notebook</a>'\n",
              "          + ' to learn more about interactive tables.';\n",
              "        element.innerHTML = '';\n",
              "        dataTable['output_type'] = 'display_data';\n",
              "        await google.colab.output.renderOutput(dataTable, element);\n",
              "        const docLink = document.createElement('div');\n",
              "        docLink.innerHTML = docLinkHtml;\n",
              "        element.appendChild(docLink);\n",
              "      }\n",
              "    </script>\n",
              "  </div>\n",
              "\n",
              "\n",
              "<div id=\"df-295d229c-f051-46b9-8117-94f8ef29bb12\">\n",
              "  <button class=\"colab-df-quickchart\" onclick=\"quickchart('df-295d229c-f051-46b9-8117-94f8ef29bb12')\"\n",
              "            title=\"Suggest charts\"\n",
              "            style=\"display:none;\">\n",
              "\n",
              "<svg xmlns=\"http://www.w3.org/2000/svg\" height=\"24px\"viewBox=\"0 0 24 24\"\n",
              "     width=\"24px\">\n",
              "    <g>\n",
              "        <path d=\"M19 3H5c-1.1 0-2 .9-2 2v14c0 1.1.9 2 2 2h14c1.1 0 2-.9 2-2V5c0-1.1-.9-2-2-2zM9 17H7v-7h2v7zm4 0h-2V7h2v10zm4 0h-2v-4h2v4z\"/>\n",
              "    </g>\n",
              "</svg>\n",
              "  </button>\n",
              "\n",
              "<style>\n",
              "  .colab-df-quickchart {\n",
              "      --bg-color: #E8F0FE;\n",
              "      --fill-color: #1967D2;\n",
              "      --hover-bg-color: #E2EBFA;\n",
              "      --hover-fill-color: #174EA6;\n",
              "      --disabled-fill-color: #AAA;\n",
              "      --disabled-bg-color: #DDD;\n",
              "  }\n",
              "\n",
              "  [theme=dark] .colab-df-quickchart {\n",
              "      --bg-color: #3B4455;\n",
              "      --fill-color: #D2E3FC;\n",
              "      --hover-bg-color: #434B5C;\n",
              "      --hover-fill-color: #FFFFFF;\n",
              "      --disabled-bg-color: #3B4455;\n",
              "      --disabled-fill-color: #666;\n",
              "  }\n",
              "\n",
              "  .colab-df-quickchart {\n",
              "    background-color: var(--bg-color);\n",
              "    border: none;\n",
              "    border-radius: 50%;\n",
              "    cursor: pointer;\n",
              "    display: none;\n",
              "    fill: var(--fill-color);\n",
              "    height: 32px;\n",
              "    padding: 0;\n",
              "    width: 32px;\n",
              "  }\n",
              "\n",
              "  .colab-df-quickchart:hover {\n",
              "    background-color: var(--hover-bg-color);\n",
              "    box-shadow: 0 1px 2px rgba(60, 64, 67, 0.3), 0 1px 3px 1px rgba(60, 64, 67, 0.15);\n",
              "    fill: var(--button-hover-fill-color);\n",
              "  }\n",
              "\n",
              "  .colab-df-quickchart-complete:disabled,\n",
              "  .colab-df-quickchart-complete:disabled:hover {\n",
              "    background-color: var(--disabled-bg-color);\n",
              "    fill: var(--disabled-fill-color);\n",
              "    box-shadow: none;\n",
              "  }\n",
              "\n",
              "  .colab-df-spinner {\n",
              "    border: 2px solid var(--fill-color);\n",
              "    border-color: transparent;\n",
              "    border-bottom-color: var(--fill-color);\n",
              "    animation:\n",
              "      spin 1s steps(1) infinite;\n",
              "  }\n",
              "\n",
              "  @keyframes spin {\n",
              "    0% {\n",
              "      border-color: transparent;\n",
              "      border-bottom-color: var(--fill-color);\n",
              "      border-left-color: var(--fill-color);\n",
              "    }\n",
              "    20% {\n",
              "      border-color: transparent;\n",
              "      border-left-color: var(--fill-color);\n",
              "      border-top-color: var(--fill-color);\n",
              "    }\n",
              "    30% {\n",
              "      border-color: transparent;\n",
              "      border-left-color: var(--fill-color);\n",
              "      border-top-color: var(--fill-color);\n",
              "      border-right-color: var(--fill-color);\n",
              "    }\n",
              "    40% {\n",
              "      border-color: transparent;\n",
              "      border-right-color: var(--fill-color);\n",
              "      border-top-color: var(--fill-color);\n",
              "    }\n",
              "    60% {\n",
              "      border-color: transparent;\n",
              "      border-right-color: var(--fill-color);\n",
              "    }\n",
              "    80% {\n",
              "      border-color: transparent;\n",
              "      border-right-color: var(--fill-color);\n",
              "      border-bottom-color: var(--fill-color);\n",
              "    }\n",
              "    90% {\n",
              "      border-color: transparent;\n",
              "      border-bottom-color: var(--fill-color);\n",
              "    }\n",
              "  }\n",
              "</style>\n",
              "\n",
              "  <script>\n",
              "    async function quickchart(key) {\n",
              "      const quickchartButtonEl =\n",
              "        document.querySelector('#' + key + ' button');\n",
              "      quickchartButtonEl.disabled = true;  // To prevent multiple clicks.\n",
              "      quickchartButtonEl.classList.add('colab-df-spinner');\n",
              "      try {\n",
              "        const charts = await google.colab.kernel.invokeFunction(\n",
              "            'suggestCharts', [key], {});\n",
              "      } catch (error) {\n",
              "        console.error('Error during call to suggestCharts:', error);\n",
              "      }\n",
              "      quickchartButtonEl.classList.remove('colab-df-spinner');\n",
              "      quickchartButtonEl.classList.add('colab-df-quickchart-complete');\n",
              "    }\n",
              "    (() => {\n",
              "      let quickchartButtonEl =\n",
              "        document.querySelector('#df-295d229c-f051-46b9-8117-94f8ef29bb12 button');\n",
              "      quickchartButtonEl.style.display =\n",
              "        google.colab.kernel.accessAllowed ? 'block' : 'none';\n",
              "    })();\n",
              "  </script>\n",
              "</div>\n",
              "\n",
              "    </div>\n",
              "  </div>\n"
            ],
            "text/plain": [
              "   book_id  goodreads_book_id  best_book_id   work_id  books_count       isbn  \\\n",
              "0        1            2767052       2767052   2792775          272  439023483   \n",
              "1        2                  3             3   4640799          491  439554934   \n",
              "2        3              41865         41865   3212258          226  316015849   \n",
              "3        6           11870085      11870085  16827462          226  525478817   \n",
              "4       12           13335037      13335037  13155899          210   62024035   \n",
              "\n",
              "         isbn13                      authors  original_publication_year  \\\n",
              "0  9.780439e+12              Suzanne Collins                     2008.0   \n",
              "1  9.780440e+12  J.K. Rowling, Mary GrandPré                     1997.0   \n",
              "2  9.780316e+12              Stephenie Meyer                     2005.0   \n",
              "3  9.780525e+12                   John Green                     2012.0   \n",
              "4  9.780062e+12                Veronica Roth                     2011.0   \n",
              "\n",
              "                             original_title  ... ratings_count  \\\n",
              "0                          The Hunger Games  ...       4780653   \n",
              "1  Harry Potter and the Philosopher's Stone  ...       4602479   \n",
              "2                                  Twilight  ...       3866839   \n",
              "3                    The Fault in Our Stars  ...       2346404   \n",
              "4                                 Divergent  ...       1903563   \n",
              "\n",
              "  work_ratings_count  work_text_reviews_count  ratings_1  ratings_2  \\\n",
              "0            4942365                   155254      66715     127936   \n",
              "1            4800065                    75867      75504     101676   \n",
              "2            3916824                    95009     456191     436802   \n",
              "3            2478609                   140739      47994      92723   \n",
              "4            2216814                   101023      36315      82870   \n",
              "\n",
              "   ratings_3  ratings_4  ratings_5  \\\n",
              "0     560092    1481305    2706317   \n",
              "1     455024    1156318    3011543   \n",
              "2     793319     875073    1355439   \n",
              "3     327550     698471    1311871   \n",
              "4     310297     673028    1114304   \n",
              "\n",
              "                                           image_url  \\\n",
              "0  https://images.gr-assets.com/books/1447303603m...   \n",
              "1  https://images.gr-assets.com/books/1474154022m...   \n",
              "2  https://images.gr-assets.com/books/1361039443m...   \n",
              "3  https://images.gr-assets.com/books/1360206420m...   \n",
              "4  https://images.gr-assets.com/books/1328559506m...   \n",
              "\n",
              "                                     small_image_url  \n",
              "0  https://images.gr-assets.com/books/1447303603s...  \n",
              "1  https://images.gr-assets.com/books/1474154022s...  \n",
              "2  https://images.gr-assets.com/books/1361039443s...  \n",
              "3  https://images.gr-assets.com/books/1360206420s...  \n",
              "4  https://images.gr-assets.com/books/1328559506s...  \n",
              "\n",
              "[5 rows x 23 columns]"
            ]
          },
          "execution_count": 20,
          "metadata": {},
          "output_type": "execute_result"
        }
      ],
      "source": [
        "df = pd.read_csv(\"books.csv\")\n",
        "df.head()"
      ]
    },
    {
      "cell_type": "code",
      "execution_count": 21,
      "metadata": {
        "colab": {
          "base_uri": "https://localhost:8080/"
        },
        "id": "_Hvse0TPCpRp",
        "outputId": "180cc7b6-bd38-4a1a-db7d-2e28d8e0a6cd"
      },
      "outputs": [
        {
          "data": {
            "text/plain": [
              "(1354, 23)"
            ]
          },
          "execution_count": 21,
          "metadata": {},
          "output_type": "execute_result"
        }
      ],
      "source": [
        "df.shape"
      ]
    },
    {
      "cell_type": "code",
      "execution_count": 24,
      "metadata": {
        "colab": {
          "base_uri": "https://localhost:8080/"
        },
        "id": "cy9a2tH0FSqN",
        "outputId": "b9969c85-faf4-44de-dd63-8af11e2dbf24"
      },
      "outputs": [
        {
          "data": {
            "text/plain": [
              "Index(['book_id', 'goodreads_book_id', 'best_book_id', 'work_id',\n",
              "       'books_count', 'isbn', 'isbn13', 'authors', 'original_publication_year',\n",
              "       'original_title', 'title', 'language_code', 'average_rating',\n",
              "       'ratings_count', 'work_ratings_count', 'work_text_reviews_count',\n",
              "       'ratings_1', 'ratings_2', 'ratings_3', 'ratings_4', 'ratings_5',\n",
              "       'image_url', 'small_image_url'],\n",
              "      dtype='object')"
            ]
          },
          "execution_count": 24,
          "metadata": {},
          "output_type": "execute_result"
        }
      ],
      "source": [
        "df.columns"
      ]
    },
    {
      "cell_type": "code",
      "execution_count": 13,
      "metadata": {
        "id": "OR-ErIN0BcWF"
      },
      "outputs": [],
      "source": [
        "columns_to_drop = ['work_id', 'isbn', 'isbn13', 'image_url', 'small_image_url']\n",
        "df = df.drop(columns=columns_to_drop)"
      ]
    },
    {
      "cell_type": "code",
      "execution_count": 14,
      "metadata": {
        "colab": {
          "base_uri": "https://localhost:8080/"
        },
        "id": "zR37fiLt9U13",
        "outputId": "8e344761-af3c-4aeb-c5f5-78a54baa5408"
      },
      "outputs": [
        {
          "name": "stdout",
          "output_type": "stream",
          "text": [
            "\n",
            "Rows with Null Values:\n",
            "      book_id  goodreads_book_id  best_book_id  books_count  \\\n",
            "51        220            3609760       3609760           20   \n",
            "72        321              10365         10365           69   \n",
            "73        324           16068905      16068905           80   \n",
            "138       636           11260526      11260526           14   \n",
            "150       717           11742691      11742691           11   \n",
            "...       ...                ...           ...          ...   \n",
            "1326     9709           13031445      13031445           10   \n",
            "1329     9740            4837112       4837112            6   \n",
            "1332     9752           20821376      20821376           27   \n",
            "1337     9843              71867         71867           43   \n",
            "1338     9849              36638         36638           48   \n",
            "\n",
            "                       authors  original_publication_year  \\\n",
            "51              Mark Cotta Vaz                        NaN   \n",
            "72                Wilson Rawls                     1961.0   \n",
            "73              Rainbow Rowell                     2013.0   \n",
            "138             Mark Cotta Vaz                     2011.0   \n",
            "150                  Kate Egan                     2012.0   \n",
            "...                        ...                        ...   \n",
            "1326       The Harvard Lampoon                     2012.0   \n",
            "1329              Rick Riordan                     2009.0   \n",
            "1332              Meg Wolitzer                     2014.0   \n",
            "1337              John Marsden                     1999.0   \n",
            "1338  Joan Aiken, Pat Marriott                     1962.0   \n",
            "\n",
            "                                         original_title  \\\n",
            "51    Twilight: The Complete Illustrated Movie Compa...   \n",
            "72                             Where the Red Fern Grows   \n",
            "73                                                  NaN   \n",
            "138                                                 NaN   \n",
            "150                                                 NaN   \n",
            "...                                                 ...   \n",
            "1326                                                NaN   \n",
            "1329               Percy Jackson and the Sword of Hades   \n",
            "1332                                                NaN   \n",
            "1337                             The Other Side of Dawn   \n",
            "1338                    The Wolves of Willoughby Chase    \n",
            "\n",
            "                                                  title language_code  \\\n",
            "51    Twilight: The Complete Illustrated Movie Compa...         en-US   \n",
            "72                             Where the Red Fern Grows           NaN   \n",
            "73                                              Fangirl           eng   \n",
            "138   The Twilight Saga Breaking Dawn Part 1: The Of...           eng   \n",
            "150   The Hunger Games: Official Illustrated Movie C...         en-US   \n",
            "...                                                 ...           ...   \n",
            "1326                         The Hunger Pains: A Parody         en-GB   \n",
            "1329  Percy Jackson and the Sword of Hades (Percy Ja...           NaN   \n",
            "1332                                            Belzhar           NaN   \n",
            "1337              The Other Side of Dawn (Tomorrow, #7)           NaN   \n",
            "1338  The Wolves of Willoughby Chase (The Wolves Chr...           NaN   \n",
            "\n",
            "      average_rating  ratings_count  work_ratings_count  \\\n",
            "51              4.23         291411              291899   \n",
            "72              4.04         268548              280179   \n",
            "73              4.12         340379              371730   \n",
            "138             4.30         188136              188274   \n",
            "150             4.51         119915              120075   \n",
            "...              ...            ...                 ...   \n",
            "1326            3.89           8619                8833   \n",
            "1329            4.28          14502               14622   \n",
            "1332            3.46          10432               11634   \n",
            "1337            4.21          10443               11682   \n",
            "1338            4.08          13463               14743   \n",
            "\n",
            "      work_text_reviews_count  ratings_1  ratings_2  ratings_3  ratings_4  \\\n",
            "51                        532       6862      11019      48008      67939   \n",
            "72                       8725       6585      15232      53560      89699   \n",
            "73                      39353       8626      16973      60097     121431   \n",
            "138                       134       2655       6588      29411      42475   \n",
            "150                       384       1968       2226      10191      24365   \n",
            "...                       ...        ...        ...        ...        ...   \n",
            "1326                      728        730        770       1476       1660   \n",
            "1329                      357        125        368       2272       4327   \n",
            "1332                     2208        477       1524       3832       3730   \n",
            "1337                      341         47        265       1895       4448   \n",
            "1338                      947        193        581       2901       5305   \n",
            "\n",
            "      ratings_5  \n",
            "51       158071  \n",
            "72       115103  \n",
            "73       164603  \n",
            "138      107145  \n",
            "150       81325  \n",
            "...         ...  \n",
            "1326       4197  \n",
            "1329       7530  \n",
            "1332       2071  \n",
            "1337       5027  \n",
            "1338       5763  \n",
            "\n",
            "[157 rows x 18 columns]\n"
          ]
        }
      ],
      "source": [
        "rows_with_null = df[df.isnull().any(axis=1)]\n",
        "print(\"\\nRows with Null Values:\")\n",
        "print(rows_with_null)"
      ]
    },
    {
      "cell_type": "code",
      "execution_count": 15,
      "metadata": {
        "id": "rQUvajfNB14w"
      },
      "outputs": [],
      "source": [
        "df.dropna(inplace=True)"
      ]
    },
    {
      "cell_type": "code",
      "execution_count": 16,
      "metadata": {
        "colab": {
          "base_uri": "https://localhost:8080/"
        },
        "id": "FmNMldBlCkLd",
        "outputId": "59f4b84f-ec3e-4178-9157-fe78e2472f22"
      },
      "outputs": [
        {
          "data": {
            "text/plain": [
              "(1197, 18)"
            ]
          },
          "execution_count": 16,
          "metadata": {},
          "output_type": "execute_result"
        }
      ],
      "source": [
        "df.shape"
      ]
    },
    {
      "cell_type": "code",
      "execution_count": 18,
      "metadata": {
        "colab": {
          "base_uri": "https://localhost:8080/"
        },
        "id": "p0GS6eLDBL1g",
        "outputId": "9661db2f-366b-4a5b-8bcc-73e298fe0481"
      },
      "outputs": [
        {
          "name": "stdout",
          "output_type": "stream",
          "text": [
            "Duplicate Rows:\n",
            "Empty DataFrame\n",
            "Columns: [book_id, goodreads_book_id, best_book_id, books_count, authors, original_publication_year, original_title, title, language_code, average_rating, ratings_count, work_ratings_count, work_text_reviews_count, ratings_1, ratings_2, ratings_3, ratings_4, ratings_5]\n",
            "Index: []\n"
          ]
        }
      ],
      "source": [
        "duplicate_rows = df[df.duplicated()]\n",
        "print(\"Duplicate Rows:\")\n",
        "print(duplicate_rows)"
      ]
    },
    {
      "cell_type": "code",
      "execution_count": 30,
      "metadata": {
        "id": "CFvVM4Gv9U7e"
      },
      "outputs": [],
      "source": [
        "harry_potter_df = df[df['title'].str.contains('Harry Potter')]\n"
      ]
    },
    {
      "cell_type": "code",
      "execution_count": 31,
      "metadata": {
        "colab": {
          "base_uri": "https://localhost:8080/"
        },
        "id": "MPMATTKiGWCZ",
        "outputId": "f8844cc1-5880-4c6e-a5cd-9186b760ea4f"
      },
      "outputs": [
        {
          "data": {
            "text/plain": [
              "(11, 23)"
            ]
          },
          "execution_count": 31,
          "metadata": {},
          "output_type": "execute_result"
        }
      ],
      "source": [
        "harry_potter_df.shape"
      ]
    },
    {
      "cell_type": "code",
      "execution_count": 32,
      "metadata": {
        "colab": {
          "base_uri": "https://localhost:8080/"
        },
        "id": "-8UKWLD39VAO",
        "outputId": "5267d0f9-6004-4686-b8d2-8e6ffb70912d"
      },
      "outputs": [
        {
          "name": "stderr",
          "output_type": "stream",
          "text": [
            "<ipython-input-32-3be7da392e4d>:1: SettingWithCopyWarning: \n",
            "A value is trying to be set on a copy of a slice from a DataFrame\n",
            "\n",
            "See the caveats in the documentation: https://pandas.pydata.org/pandas-docs/stable/user_guide/indexing.html#returning-a-view-versus-a-copy\n",
            "  harry_potter_df.drop_duplicates(inplace=True)\n"
          ]
        }
      ],
      "source": [
        "harry_potter_df.drop_duplicates(inplace=True)"
      ]
    },
    {
      "cell_type": "code",
      "execution_count": 33,
      "metadata": {
        "colab": {
          "base_uri": "https://localhost:8080/"
        },
        "id": "Ex7zLNOVGJZc",
        "outputId": "9f3c57d0-8cde-4f5c-fe8d-07ca08926688"
      },
      "outputs": [
        {
          "data": {
            "text/plain": [
              "(11, 23)"
            ]
          },
          "execution_count": 33,
          "metadata": {},
          "output_type": "execute_result"
        }
      ],
      "source": [
        "harry_potter_df.shape"
      ]
    },
    {
      "cell_type": "code",
      "execution_count": 41,
      "metadata": {
        "colab": {
          "base_uri": "https://localhost:8080/"
        },
        "id": "v4vbs3MuGJdC",
        "outputId": "3f84962c-ee4a-40c1-a3fc-a57b23c91525"
      },
      "outputs": [
        {
          "name": "stderr",
          "output_type": "stream",
          "text": [
            "<ipython-input-41-086740a25b8f>:1: SettingWithCopyWarning: \n",
            "A value is trying to be set on a copy of a slice from a DataFrame.\n",
            "Try using .loc[row_indexer,col_indexer] = value instead\n",
            "\n",
            "See the caveats in the documentation: https://pandas.pydata.org/pandas-docs/stable/user_guide/indexing.html#returning-a-view-versus-a-copy\n",
            "  harry_potter_df['total_ratings'] = harry_potter_df['ratings_1'] + harry_potter_df['ratings_2'] + harry_potter_df['ratings_3'] + harry_potter_df['ratings_4'] + harry_potter_df['ratings_5']\n"
          ]
        }
      ],
      "source": [
        "harry_potter_df['total_ratings'] = harry_potter_df['ratings_1'] + harry_potter_df['ratings_2'] + harry_potter_df['ratings_3'] + harry_potter_df['ratings_4'] + harry_potter_df['ratings_5']\n"
      ]
    },
    {
      "cell_type": "code",
      "execution_count": 43,
      "metadata": {
        "colab": {
          "base_uri": "https://localhost:8080/"
        },
        "id": "K0pDh2INGJij",
        "outputId": "51dc551c-1020-4dc7-e4e5-261774838db8"
      },
      "outputs": [
        {
          "data": {
            "text/plain": [
              "title\n",
              "Harry Potter Boxset (Harry Potter, #1-7)                                                                               204125\n",
              "Harry Potter Collection (Harry Potter, #1-6)                                                                            26274\n",
              "Harry Potter Schoolbooks Box Set: Two Classic Books from the Library of Hogwarts School of Witchcraft and Wizardry      11732\n",
              "Harry Potter and the Chamber of Secrets (Harry Potter, #2)                                                            1906199\n",
              "Harry Potter and the Deathly Hallows (Harry Potter, #7)                                                               1847395\n",
              "Harry Potter and the Goblet of Fire (Harry Potter, #4)                                                                1868642\n",
              "Harry Potter and the Half-Blood Prince (Harry Potter, #6)                                                             1785676\n",
              "Harry Potter and the Order of the Phoenix (Harry Potter, #5)                                                          1840548\n",
              "Harry Potter and the Prisoner of Azkaban (Harry Potter, #3)                                                           1969375\n",
              "Harry Potter and the Sorcerer's Stone (Harry Potter, #1)                                                              4800065\n",
              "The Magical Worlds of Harry Potter: A Treasury of Myths, Legends, and Fascinating Facts                                 15145\n",
              "Name: total_ratings, dtype: int64"
            ]
          },
          "execution_count": 43,
          "metadata": {},
          "output_type": "execute_result"
        }
      ],
      "source": [
        "most_selling_books = harry_potter_df.groupby('title')['total_ratings'].sum()\n",
        "most_selling_books"
      ]
    },
    {
      "cell_type": "code",
      "execution_count": 38,
      "metadata": {
        "colab": {
          "base_uri": "https://localhost:8080/"
        },
        "id": "L-WzXhoyGJqP",
        "outputId": "febdd577-b76d-486a-b061-552e9f8fec9e"
      },
      "outputs": [
        {
          "name": "stderr",
          "output_type": "stream",
          "text": [
            "<ipython-input-38-39a35a381676>:1: SettingWithCopyWarning: \n",
            "A value is trying to be set on a copy of a slice from a DataFrame.\n",
            "Try using .loc[row_indexer,col_indexer] = value instead\n",
            "\n",
            "See the caveats in the documentation: https://pandas.pydata.org/pandas-docs/stable/user_guide/indexing.html#returning-a-view-versus-a-copy\n",
            "  harry_potter_df['average_rating'] = harry_potter_df['average_rating'].astype(float)\n"
          ]
        }
      ],
      "source": [
        "harry_potter_df['average_rating'] = harry_potter_df['average_rating'].astype(float)\n",
        "\n"
      ]
    },
    {
      "cell_type": "code",
      "execution_count": 45,
      "metadata": {
        "colab": {
          "base_uri": "https://localhost:8080/"
        },
        "id": "E0u_oaSOG7lJ",
        "outputId": "9eb81f04-d43d-439f-80dc-5ec53333e3a9"
      },
      "outputs": [
        {
          "name": "stderr",
          "output_type": "stream",
          "text": [
            "<ipython-input-45-7fb65d8fc19a>:1: SettingWithCopyWarning: \n",
            "A value is trying to be set on a copy of a slice from a DataFrame.\n",
            "Try using .loc[row_indexer,col_indexer] = value instead\n",
            "\n",
            "See the caveats in the documentation: https://pandas.pydata.org/pandas-docs/stable/user_guide/indexing.html#returning-a-view-versus-a-copy\n",
            "  harry_potter_df['average_rating'] = harry_potter_df[['ratings_1', 'ratings_2', 'ratings_3', 'ratings_4', 'ratings_5']].mean(axis=1)\n"
          ]
        }
      ],
      "source": [
        "harry_potter_df['average_rating'] = harry_potter_df[['ratings_1', 'ratings_2', 'ratings_3', 'ratings_4', 'ratings_5']].mean(axis=1)\n"
      ]
    },
    {
      "cell_type": "code",
      "execution_count": 46,
      "metadata": {
        "colab": {
          "base_uri": "https://localhost:8080/"
        },
        "id": "GcvyftGOG7n3",
        "outputId": "59f48773-d732-4407-8042-0ab43f7e3f5d"
      },
      "outputs": [
        {
          "data": {
            "text/plain": [
              "295912.2909090909"
            ]
          },
          "execution_count": 46,
          "metadata": {},
          "output_type": "execute_result"
        }
      ],
      "source": [
        "average_rating = harry_potter_df['average_rating'].mean()\n",
        "average_rating"
      ]
    }
  ],
  "metadata": {
    "colab": {
      "provenance": []
    },
    "kernelspec": {
      "display_name": "Python 3",
      "name": "python3"
    },
    "language_info": {
      "name": "python"
    }
  },
  "nbformat": 4,
  "nbformat_minor": 0
}
